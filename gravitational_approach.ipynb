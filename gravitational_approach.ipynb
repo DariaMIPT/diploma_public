{
 "cells": [
  {
   "cell_type": "code",
   "execution_count": 1,
   "metadata": {},
   "outputs": [
    {
     "name": "stdout",
     "output_type": "stream",
     "text": [
      "Populating the interactive namespace from numpy and matplotlib\n"
     ]
    }
   ],
   "source": [
    "from joblib import Parallel, delayed\n",
    "import functools\n",
    "\n",
    "import matplotlib.pyplot as plt\n",
    "from matplotlib import cm\n",
    "from matplotlib.ticker import LinearLocator, FormatStrFormatter\n",
    "from mpl_toolkits.mplot3d import Axes3D\n",
    "\n",
    "import numpy as np\n",
    "import pandas as pd\n",
    "\n",
    "import time\n",
    "from tqdm import tqdm_notebook as  tqdm \n",
    "\n",
    "%pylab inline\n",
    "pd.set_option('display.max_rows', 7)"
   ]
  },
  {
   "cell_type": "markdown",
   "metadata": {},
   "source": [
    "# Load  data"
   ]
  },
  {
   "cell_type": "code",
   "execution_count": 3,
   "metadata": {},
   "outputs": [
    {
     "data": {
      "text/html": [
       "<div>\n",
       "<style scoped>\n",
       "    .dataframe tbody tr th:only-of-type {\n",
       "        vertical-align: middle;\n",
       "    }\n",
       "\n",
       "    .dataframe tbody tr th {\n",
       "        vertical-align: top;\n",
       "    }\n",
       "\n",
       "    .dataframe thead th {\n",
       "        text-align: right;\n",
       "    }\n",
       "</style>\n",
       "<table border=\"1\" class=\"dataframe\">\n",
       "  <thead>\n",
       "    <tr style=\"text-align: right;\">\n",
       "      <th></th>\n",
       "      <th>source</th>\n",
       "      <th>sink</th>\n",
       "      <th>correspndc</th>\n",
       "      <th>avg_time</th>\n",
       "      <th>avg_dist</th>\n",
       "    </tr>\n",
       "  </thead>\n",
       "  <tbody>\n",
       "    <tr>\n",
       "      <th>0</th>\n",
       "      <td>1</td>\n",
       "      <td>1</td>\n",
       "      <td>40</td>\n",
       "      <td>26</td>\n",
       "      <td>2.2</td>\n",
       "    </tr>\n",
       "    <tr>\n",
       "      <th>1</th>\n",
       "      <td>1</td>\n",
       "      <td>2</td>\n",
       "      <td>4</td>\n",
       "      <td>49</td>\n",
       "      <td>8.1</td>\n",
       "    </tr>\n",
       "    <tr>\n",
       "      <th>2</th>\n",
       "      <td>1</td>\n",
       "      <td>3</td>\n",
       "      <td>3</td>\n",
       "      <td>35</td>\n",
       "      <td>6.8</td>\n",
       "    </tr>\n",
       "    <tr>\n",
       "      <th>...</th>\n",
       "      <td>...</td>\n",
       "      <td>...</td>\n",
       "      <td>...</td>\n",
       "      <td>...</td>\n",
       "      <td>...</td>\n",
       "    </tr>\n",
       "    <tr>\n",
       "      <th>207</th>\n",
       "      <td>22</td>\n",
       "      <td>1</td>\n",
       "      <td>1</td>\n",
       "      <td>140</td>\n",
       "      <td>84.8</td>\n",
       "    </tr>\n",
       "    <tr>\n",
       "      <th>208</th>\n",
       "      <td>22</td>\n",
       "      <td>2</td>\n",
       "      <td>3</td>\n",
       "      <td>120</td>\n",
       "      <td>72.6</td>\n",
       "    </tr>\n",
       "    <tr>\n",
       "      <th>209</th>\n",
       "      <td>22</td>\n",
       "      <td>22</td>\n",
       "      <td>18</td>\n",
       "      <td>25</td>\n",
       "      <td>1.5</td>\n",
       "    </tr>\n",
       "  </tbody>\n",
       "</table>\n",
       "<p>210 rows × 5 columns</p>\n",
       "</div>"
      ],
      "text/plain": [
       "     source  sink  correspndc  avg_time  avg_dist\n",
       "0         1     1          40        26       2.2\n",
       "1         1     2           4        49       8.1\n",
       "2         1     3           3        35       6.8\n",
       "..      ...   ...         ...       ...       ...\n",
       "207      22     1           1       140      84.8\n",
       "208      22     2           3       120      72.6\n",
       "209      22    22          18        25       1.5\n",
       "\n",
       "[210 rows x 5 columns]"
      ]
     },
     "execution_count": 3,
     "metadata": {},
     "output_type": "execute_result"
    }
   ],
   "source": [
    "data = pd.read_csv(\n",
    "    \"trips.csv\",\n",
    "    header=None,\n",
    "    names=['source', 'sink', 'correspndc', 'avg_time', 'avg_dist'])\n",
    "\n",
    "data"
   ]
  },
  {
   "cell_type": "markdown",
   "metadata": {},
   "source": [
    "$L_i$ - полное число людей, ездящих на работу из района $i$ (*source_volumes*)\n",
    "\n",
    "$Q_j$ - полное число людей, приезжающих на работу в район $j$ (*sink_volumes*)\n",
    "\n",
    "$(d_{real})_{ij}$ - реальная корреспонденция между районами $i$ и $j$ \n",
    "\n",
    "$\\sum\\limits_j (d_{real})_{ij} = L_i$\n",
    "\n",
    "$\\sum\\limits_i(d_{real})_{ij} = W_j$"
   ]
  },
  {
   "cell_type": "markdown",
   "metadata": {},
   "source": [
    "Заполним клетки, в которых отсутствует информация, inf-значениями, а соответствующую корреспонеднцию положим равной 0. "
   ]
  },
  {
   "cell_type": "code",
   "execution_count": 5,
   "metadata": {},
   "outputs": [],
   "source": [
    "num_of_regions = 22\n",
    "for source_num in range(1, num_of_regions + 1):\n",
    "    for sink_num in range(1, num_of_regions + 1):\n",
    "        if not ((data['source'] == source_num) & (data['sink'] == sink_num)).any():\n",
    "            df = pd.DataFrame(np.array([[source_num, sink_num, 0, np.Inf, np.Inf]]),\n",
    "                              columns=['source','sink','correspndc', 'avg_time','avg_dist'])\n",
    "            data = pd.concat([data, df], axis=0)\n",
    "data.sort_values(by=['source','sink','correspndc', 'avg_time','avg_dist'], inplace=True)\n",
    "data.reset_index(drop=True,inplace=True);"
   ]
  },
  {
   "cell_type": "code",
   "execution_count": 6,
   "metadata": {},
   "outputs": [],
   "source": [
    "W = data[[\"sink\", \"correspndc\"]].groupby([\"sink\"]).sum()[\"correspndc\"].values\n",
    "W = W.reshape((W.shape[0], 1))\n",
    "L = data[[\"source\", \"correspndc\",]].groupby([\"source\"]).sum()[\"correspndc\"].values\n",
    "L = L.reshape((W.shape[0], 1))"
   ]
  },
  {
   "cell_type": "code",
   "execution_count": 7,
   "metadata": {},
   "outputs": [],
   "source": [
    "av_time = data[\"avg_time\"].values.reshape(num_of_regions,\n",
    "                                    num_of_regions).astype(float)\n",
    "dist = data[\"avg_dist\"].values.reshape(num_of_regions,\n",
    "                                    num_of_regions).astype(float)\n",
    "real_correspondance = data[\"correspndc\"].values.reshape(\n",
    "    num_of_regions, num_of_regions)"
   ]
  },
  {
   "cell_type": "code",
   "execution_count": 8,
   "metadata": {},
   "outputs": [],
   "source": [
    "num_of_regions = 22"
   ]
  },
  {
   "cell_type": "code",
   "execution_count": 9,
   "metadata": {},
   "outputs": [
    {
     "name": "stdout",
     "output_type": "stream",
     "text": [
      "1965.0\n",
      "1965.0\n"
     ]
    }
   ],
   "source": [
    "print(L.sum())\n",
    "print(W.sum())"
   ]
  },
  {
   "cell_type": "code",
   "execution_count": null,
   "metadata": {},
   "outputs": [],
   "source": []
  }
 ],
 "metadata": {
  "kernelspec": {
   "display_name": "Python [conda env:anaconda3]",
   "language": "python",
   "name": "conda-env-anaconda3-py"
  },
  "language_info": {
   "codemirror_mode": {
    "name": "ipython",
    "version": 3
   },
   "file_extension": ".py",
   "mimetype": "text/x-python",
   "name": "python",
   "nbconvert_exporter": "python",
   "pygments_lexer": "ipython3",
   "version": "3.6.5"
  },
  "toc": {
   "base_numbering": 1,
   "nav_menu": {},
   "number_sections": true,
   "sideBar": true,
   "skip_h1_title": false,
   "title_cell": "Table of Contents",
   "title_sidebar": "Contents",
   "toc_cell": false,
   "toc_position": {},
   "toc_section_display": true,
   "toc_window_display": false
  }
 },
 "nbformat": 4,
 "nbformat_minor": 2
}
