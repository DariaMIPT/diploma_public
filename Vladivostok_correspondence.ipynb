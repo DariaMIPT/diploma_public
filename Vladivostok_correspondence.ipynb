{
 "cells": [
  {
   "cell_type": "code",
   "execution_count": 3,
   "metadata": {},
   "outputs": [
    {
     "name": "stdout",
     "output_type": "stream",
     "text": [
      "Populating the interactive namespace from numpy and matplotlib\n"
     ]
    }
   ],
   "source": [
    "from IPython.display import clear_output\n",
    "from joblib import Parallel, delayed\n",
    "\n",
    "import matplotlib.pyplot as plt\n",
    "from matplotlib import cm\n",
    "from matplotlib.ticker import LinearLocator, FormatStrFormatter\n",
    "from mpl_toolkits.mplot3d import Axes3D\n",
    "\n",
    "import numpy as np\n",
    "import pandas as pd\n",
    "import re\n",
    "from tqdm import tqdm_notebook as  tqdm \n",
    "\n",
    "%pylab inline\n",
    "pd.set_option('display.max_rows', 7)"
   ]
  },
  {
   "cell_type": "markdown",
   "metadata": {},
   "source": [
    "# Load data"
   ]
  },
  {
   "cell_type": "markdown",
   "metadata": {},
   "source": [
    "$L_i$ - полное число людей, ездящих на работу из района $i$ (*source_volumes*)\n",
    "\n",
    "$Q_j$ - полное число людей, приезжающих на работу в район $j$ (*sink_volumes*)\n",
    "\n",
    "$(d_{real})_{ij}$ - реальная корреспонденция между районами $i$ и $j$ \n",
    "\n",
    "$\\sum\\limits_j (d_{real})_{ij} = L_i$\n",
    "\n",
    "$\\sum\\limits_i(d_{real})_{ij} = W_j$"
   ]
  },
  {
   "cell_type": "code",
   "execution_count": 5,
   "metadata": {},
   "outputs": [],
   "source": [
    "L = []\n",
    "W = []\n",
    "\n",
    "with open('rhs1.txt', \"r\") as source_file:\n",
    "    for line in source_file:\n",
    "        a = re.sub('\\s+', ' ', line).strip().split(' ')\n",
    "        L.append(int(a[1]))\n",
    "with open('rhs2.txt', \"r\") as sink_file:\n",
    "    for line in sink_file:\n",
    "        a = re.sub('\\s+', ' ', line).strip().split(' ')\n",
    "        W.append(int(a[1]))"
   ]
  },
  {
   "cell_type": "code",
   "execution_count": 6,
   "metadata": {},
   "outputs": [],
   "source": [
    "L = np.array(L)\n",
    "W = np.array(W)\n",
    "L = L.reshape((-1, 1))\n",
    "W = W.reshape((-1, 1));"
   ]
  },
  {
   "cell_type": "code",
   "execution_count": 7,
   "metadata": {},
   "outputs": [],
   "source": [
    "costs = []\n",
    "\n",
    "with open('c.matrix', \"r\") as cost_file:\n",
    "    for line in cost_file:\n",
    "        a = re.sub('\\s+', ' ', line).strip().split(' ')\n",
    "        costs.append(float(a[2]))"
   ]
  },
  {
   "cell_type": "code",
   "execution_count": 9,
   "metadata": {
    "scrolled": true
   },
   "outputs": [
    {
     "data": {
      "text/plain": [
       "(319, 399)"
      ]
     },
     "execution_count": 9,
     "metadata": {},
     "output_type": "execute_result"
    }
   ],
   "source": [
    "costs = np.array(costs)\n",
    "costs = costs.reshape((L.shape[0], W.shape[0]))\n",
    "costs.shape"
   ]
  },
  {
   "cell_type": "markdown",
   "metadata": {},
   "source": [
    "# Расчеты"
   ]
  },
  {
   "cell_type": "markdown",
   "metadata": {},
   "source": [
    "**Метод Синхорна: **\n",
    "$$A^{n+1}_i := \\left(\\sum_{j=1}^nB_j^nW_jf(c_{ij})\\right)^{-1},$$\n",
    "\n",
    "$$B^{n+1}_j := \\left(\\sum_{i=1}^nA_i^{n+1}L_if(c_{ij})\\right)^{-1}$$\n",
    "\n",
    "где $t_{ij}$ - среднее время, затрачиваемое для поездки из города $i$ в $j$.\n"
   ]
  },
  {
   "cell_type": "code",
   "execution_count": 10,
   "metadata": {},
   "outputs": [],
   "source": [
    "def iterate(A, B, gravity_func, **kwargs):\n",
    "    A_p = (1 / ((B.T * W.T * gravity_func(**kwargs)).sum(axis = 1, keepdims=True)))\n",
    "    B_p = (1 / ((A_p * L * gravity_func(**kwargs)).sum(axis = 0, keepdims=True))).T\n",
    "    return A_p.reshape(A.shape), B_p.reshape(B.shape)"
   ]
  },
  {
   "cell_type": "code",
   "execution_count": 11,
   "metadata": {},
   "outputs": [],
   "source": [
    "def visualize_dcoef(dA_list, dB_list):\n",
    "    X = np.linspace(0, len(dA_list), len(dA_list))\n",
    "    plt.figure(figsize=(14, 6))    \n",
    "    plt.title(\"d_coeff / coeff\")\n",
    "    plt.xlabel(\"iter_num\")\n",
    "    plt.ylabel(\"d_coeff / coeff\")\n",
    "    plt.plot(X, dA_list, 'b', label='dA/A')\n",
    "    plt.plot(X, dB_list, 'purple', label='dB/B')\n",
    "    plt.plot(X, 0*X, \"black\")\n",
    "    plt.ylim(top=0.5, bottom=0)\n",
    "    plt.legend(loc='upper right')"
   ]
  },
  {
   "cell_type": "code",
   "execution_count": 24,
   "metadata": {},
   "outputs": [],
   "source": [
    "def SinkhornBalance(\n",
    "        loss_list=None,\n",
    "        dA_list=None,\n",
    "        dB_list=None,\n",
    "        num_of_iterations=100,\n",
    "        A=np.ones(L.shape),\n",
    "        B=np.ones(W.shape),\n",
    "        gravity_func=None,\n",
    "        visualize=False,\n",
    "        **kwargs):\n",
    "\n",
    "    for iter_num in tqdm(range(1, num_of_iterations + 1), desc=\"iteration number\"):\n",
    "        A_n, B_n = iterate(A, B, gravity_func, **kwargs)\n",
    "        dA = np.linalg.norm(A - A_n, 2) / np.linalg.norm(A, 2)\n",
    "        dB = np.linalg.norm(B - B_n, 2) / np.linalg.norm(B, 2)\n",
    "        \n",
    "        if dA_list is not None:\n",
    "            dA_list.append(dA)\n",
    "            dB_list.append(dB)\n",
    "        if visualize and dA_list and dB_list:\n",
    "            visualize_dcoef(dA_list, dB_list)\n",
    "\n",
    "        if (dA < 1e-4) and (dB < 1e-4):\n",
    "            print(\"process converged\")\n",
    "            break\n",
    "        A, B = A_n, B_n\n",
    "        if loss_list is not None:\n",
    "            loss_list.append(\n",
    "                Loss(real_correspondance,\n",
    "                     CalculateCorrespondance(A, B, gravity_func, **kwargs)))\n",
    "    return A, B"
   ]
  },
  {
   "cell_type": "code",
   "execution_count": 25,
   "metadata": {},
   "outputs": [],
   "source": [
    "def CalculateCorrespondance(A, B, gravity_func=None, around=False, **kwargs):\n",
    "    if not around:\n",
    "        return A * L * (B * W).T * gravity_func(**kwargs)\n",
    "    else:\n",
    "        return np.around(A * L * (B * W).T * gravity_func(**kwargs), around)"
   ]
  },
  {
   "cell_type": "code",
   "execution_count": 15,
   "metadata": {},
   "outputs": [],
   "source": [
    "denominator = W.shape[0] * L.shape[0]"
   ]
  },
  {
   "cell_type": "code",
   "execution_count": 16,
   "metadata": {},
   "outputs": [],
   "source": [
    "def Loss(correspondance, real_correspondance):\n",
    "    return np.sum((real_correspondance - correspondance) * \n",
    "                  (real_correspondance - correspondance)) / (denominator)"
   ]
  },
  {
   "cell_type": "code",
   "execution_count": 17,
   "metadata": {},
   "outputs": [],
   "source": [
    "def write_one_array_to_file(data_array, file_name):\n",
    "    with open (file_name, \"w\") as  file:\n",
    "        for el in data_array:\n",
    "            file.write(str(el)+'\\n')\n",
    "            \n",
    "def write_two_array_to_file(data_array, file_name):\n",
    "    with open (file_name, \"w\") as  file:\n",
    "        file.write(\"source_volume * sink_volume 2d correspondance matrix\\n\\n\")\n",
    "        for el in data_array:\n",
    "            file.write(\"\\t\".join(list(map(str, el)))+'\\n')"
   ]
  },
  {
   "cell_type": "markdown",
   "metadata": {},
   "source": [
    "## Экспоненциальная модель"
   ]
  },
  {
   "cell_type": "markdown",
   "metadata": {},
   "source": [
    "$R(l) =  \\left\\{\n",
    "\\begin{array}{ll}\n",
    "\\alpha l^{\\beta} & \\textrm{for } 0\\leq l \\le \\hat l\\textrm{,}\\\\\n",
    "\\nu \\ln l & \\textrm{for } l \\geq \\hat l\\textrm{.}\n",
    "\\end{array} \\right. $\n",
    "\n",
    "$\\hat l$ находим из условия что, $\\alpha \\hat l^{\\beta} = \\nu \\ln \\hat l$. "
   ]
  },
  {
   "cell_type": "markdown",
   "metadata": {},
   "source": [
    "Параметры модели взяты из откалиброванной по данным с Москвы расчетам."
   ]
  },
  {
   "cell_type": "code",
   "execution_count": 20,
   "metadata": {},
   "outputs": [],
   "source": [
    "def mixed_grav_func(alpha, beta, nu, costs=costs):\n",
    "    return np.where((alpha * (costs**beta) >= nu * np.log(costs)) &\n",
    "                    (alpha * beta * (costs**(beta-1)) > nu/costs),\n",
    "                    1 / costs**nu, np.exp(-alpha * costs**beta))"
   ]
  },
  {
   "cell_type": "code",
   "execution_count": 26,
   "metadata": {},
   "outputs": [
    {
     "data": {
      "application/vnd.jupyter.widget-view+json": {
       "model_id": "b30489f89fc540bfbe1cb72912f2d659",
       "version_major": 2,
       "version_minor": 0
      },
      "text/plain": [
       "HBox(children=(IntProgress(value=0, description='iteration number', max=1000, style=ProgressStyle(description_…"
      ]
     },
     "metadata": {},
     "output_type": "display_data"
    },
    {
     "name": "stdout",
     "output_type": "stream",
     "text": [
      "process converged\n",
      "\n"
     ]
    }
   ],
   "source": [
    "alpha = 1.51\n",
    "beta = 0.51 \n",
    "nu = 2.7\n",
    "num_iterations = 1000\n",
    "\n",
    "dA_list = []\n",
    "dB_list = []\n",
    "A, B = SinkhornBalance(\n",
    "    num_of_iterations=num_iterations,\n",
    "    gravity_func=mixed_grav_func,\n",
    "    alpha=alpha,\n",
    "    beta=beta, nu=nu,\n",
    "    costs=costs,\n",
    "    dA_list=dA_list,\n",
    "    dB_list=dB_list)"
   ]
  },
  {
   "cell_type": "code",
   "execution_count": 27,
   "metadata": {},
   "outputs": [
    {
     "data": {
      "image/png": "[encoded data removed]",
      "text/plain": [
       "<Figure size 1008x432 with 1 Axes>"
      ]
     },
     "metadata": {},
     "output_type": "display_data"
    }
   ],
   "source": [
    "visualize_dcoef(dA_list,dB_list)"
   ]
  },
  {
   "cell_type": "code",
   "execution_count": 29,
   "metadata": {},
   "outputs": [],
   "source": [
    "correspondance = CalculateCorrespondance(A, B, gravity_func=mixed_grav_func,\n",
    "                                         alpha=alpha,\n",
    "                                         beta=beta,\n",
    "                                         nu=nu,\n",
    "                                         costs=costs,\n",
    "                                         around=4)"
   ]
  },
  {
   "cell_type": "code",
   "execution_count": 31,
   "metadata": {},
   "outputs": [
    {
     "data": {
      "application/vnd.jupyter.widget-view+json": {
       "model_id": "fda9ae3fde2642feb9394e0fee5962f3",
       "version_major": 2,
       "version_minor": 0
      },
      "text/plain": [
       "HBox(children=(IntProgress(value=0, max=127281), HTML(value='')))"
      ]
     },
     "metadata": {},
     "output_type": "display_data"
    },
    {
     "name": "stdout",
     "output_type": "stream",
     "text": [
      "\n"
     ]
    }
   ],
   "source": [
    "def write_modeled_corresp_file(costs_file_name, target_file_name, corresp_array):\n",
    "    new_file_list = []\n",
    "    with open(costs_file_name, \"r\") as costs_file:\n",
    "        for line in costs_file:\n",
    "            a = re.sub('\\s+', ' ', line).strip().split(' ')\n",
    "            source = int(a[0][:-2])\n",
    "            sink = int(a[1][:-2])\n",
    "            cost = float(a[2])\n",
    "            new_file_list.append([a[0], a[1], cost, \n",
    "                                 corresp_array[source-1][sink-1]])\n",
    "            \n",
    "    with open(target_file_name, \"w\") as target_file:\n",
    "        target_file.write(\"{:<16}{:<16}{:<16}{:<16}\\n\\n\".\n",
    "                         format(\"Source\", \"Sink\", \"Cost\", \"Calculated Correspondance\"))\n",
    "        count_el = 0\n",
    "        for el in tqdm(new_file_list):\n",
    "            target_file.write(\"{:<16}{:<16}{:<16}{:<16}\".format(*list(map(str, el))))\n",
    "            target_file.write(\"\\n\")\n",
    "\n",
    "        \n",
    "            \n",
    "write_modeled_corresp_file('c.matrix', \"Vladivostok_mixed_grav_model\", correspondance)"
   ]
  },
  {
   "cell_type": "code",
   "execution_count": 39,
   "metadata": {},
   "outputs": [
    {
     "name": "stdout",
     "output_type": "stream",
     "text": [
      "[ 367  367  734  367  367  734 1835 1835  367  734  367  367 1835  367\n",
      " 2202]\n"
     ]
    }
   ],
   "source": [
    "print(W.reshape(-1)[:15])"
   ]
  },
  {
   "cell_type": "code",
   "execution_count": 40,
   "metadata": {},
   "outputs": [
    {
     "name": "stdout",
     "output_type": "stream",
     "text": [
      "[ 366.9982  366.9994  733.9996  366.9995  366.9982  734.0007 1835.0003\n",
      " 1834.9986  366.9994  733.999   366.9997  366.9999 1834.9991  366.999\n",
      " 2202.0004]\n"
     ]
    }
   ],
   "source": [
    "print(correspondance.sum(axis=0).reshape(-1)[:15])"
   ]
  },
  {
   "cell_type": "code",
   "execution_count": null,
   "metadata": {},
   "outputs": [],
   "source": []
  }
 ],
 "metadata": {
  "kernelspec": {
   "display_name": "Python [conda env:anaconda3]",
   "language": "python",
   "name": "conda-env-anaconda3-py"
  },
  "language_info": {
   "codemirror_mode": {
    "name": "ipython",
    "version": 3
   },
   "file_extension": ".py",
   "mimetype": "text/x-python",
   "name": "python",
   "nbconvert_exporter": "python",
   "pygments_lexer": "ipython3",
   "version": "3.6.5"
  },
  "toc": {
   "base_numbering": 1,
   "nav_menu": {},
   "number_sections": true,
   "sideBar": true,
   "skip_h1_title": false,
   "title_cell": "Table of Contents",
   "title_sidebar": "Contents",
   "toc_cell": false,
   "toc_position": {},
   "toc_section_display": true,
   "toc_window_display": false
  }
 },
 "nbformat": 4,
 "nbformat_minor": 2
}
